{
  "nbformat": 4,
  "nbformat_minor": 0,
  "metadata": {
    "colab": {
      "provenance": []
    },
    "kernelspec": {
      "name": "python3",
      "display_name": "Python 3"
    },
    "language_info": {
      "name": "python"
    }
  },
  "cells": [
    {
      "cell_type": "code",
      "execution_count": null,
      "metadata": {
        "colab": {
          "base_uri": "https://localhost:8080/"
        },
        "id": "a1w_IzhXh9vo",
        "outputId": "929456fe-cfac-4b12-fe10-9810eb061195",
        "collapsed": true
      },
      "outputs": [
        {
          "output_type": "stream",
          "name": "stdout",
          "text": [
            "Requirement already satisfied: pennylane in /usr/local/lib/python3.11/dist-packages (0.41.1)\n",
            "Requirement already satisfied: pennylane-cirq in /usr/local/lib/python3.11/dist-packages (0.41.0)\n",
            "Requirement already satisfied: tensorflow in /usr/local/lib/python3.11/dist-packages (2.18.0)\n",
            "Requirement already satisfied: matplotlib in /usr/local/lib/python3.11/dist-packages (3.10.0)\n",
            "Requirement already satisfied: numpy in /usr/local/lib/python3.11/dist-packages (from pennylane) (2.0.2)\n",
            "Requirement already satisfied: scipy in /usr/local/lib/python3.11/dist-packages (from pennylane) (1.15.3)\n",
            "Requirement already satisfied: networkx in /usr/local/lib/python3.11/dist-packages (from pennylane) (3.5)\n",
            "Requirement already satisfied: rustworkx>=0.14.0 in /usr/local/lib/python3.11/dist-packages (from pennylane) (0.16.0)\n",
            "Requirement already satisfied: autograd in /usr/local/lib/python3.11/dist-packages (from pennylane) (1.8.0)\n",
            "Requirement already satisfied: tomlkit in /usr/local/lib/python3.11/dist-packages (from pennylane) (0.13.3)\n",
            "Requirement already satisfied: appdirs in /usr/local/lib/python3.11/dist-packages (from pennylane) (1.4.4)\n",
            "Requirement already satisfied: autoray>=0.6.11 in /usr/local/lib/python3.11/dist-packages (from pennylane) (0.7.1)\n",
            "Requirement already satisfied: cachetools in /usr/local/lib/python3.11/dist-packages (from pennylane) (5.5.2)\n",
            "Requirement already satisfied: pennylane-lightning>=0.41 in /usr/local/lib/python3.11/dist-packages (from pennylane) (0.41.1)\n",
            "Requirement already satisfied: requests in /usr/local/lib/python3.11/dist-packages (from pennylane) (2.32.3)\n",
            "Requirement already satisfied: typing-extensions in /usr/local/lib/python3.11/dist-packages (from pennylane) (4.14.0)\n",
            "Requirement already satisfied: packaging in /usr/local/lib/python3.11/dist-packages (from pennylane) (24.2)\n",
            "Requirement already satisfied: diastatic-malt in /usr/local/lib/python3.11/dist-packages (from pennylane) (2.15.2)\n",
            "Requirement already satisfied: cirq-core>=0.10 in /usr/local/lib/python3.11/dist-packages (from pennylane-cirq) (1.5.0)\n",
            "Requirement already satisfied: cirq-pasqal>=0.10 in /usr/local/lib/python3.11/dist-packages (from pennylane-cirq) (1.5.0)\n",
            "Requirement already satisfied: absl-py>=1.0.0 in /usr/local/lib/python3.11/dist-packages (from tensorflow) (1.4.0)\n",
            "Requirement already satisfied: astunparse>=1.6.0 in /usr/local/lib/python3.11/dist-packages (from tensorflow) (1.6.3)\n",
            "Requirement already satisfied: flatbuffers>=24.3.25 in /usr/local/lib/python3.11/dist-packages (from tensorflow) (25.2.10)\n",
            "Requirement already satisfied: gast!=0.5.0,!=0.5.1,!=0.5.2,>=0.2.1 in /usr/local/lib/python3.11/dist-packages (from tensorflow) (0.6.0)\n",
            "Requirement already satisfied: google-pasta>=0.1.1 in /usr/local/lib/python3.11/dist-packages (from tensorflow) (0.2.0)\n",
            "Requirement already satisfied: libclang>=13.0.0 in /usr/local/lib/python3.11/dist-packages (from tensorflow) (18.1.1)\n",
            "Requirement already satisfied: opt-einsum>=2.3.2 in /usr/local/lib/python3.11/dist-packages (from tensorflow) (3.4.0)\n",
            "Requirement already satisfied: protobuf!=4.21.0,!=4.21.1,!=4.21.2,!=4.21.3,!=4.21.4,!=4.21.5,<6.0.0dev,>=3.20.3 in /usr/local/lib/python3.11/dist-packages (from tensorflow) (5.29.5)\n",
            "Requirement already satisfied: setuptools in /usr/local/lib/python3.11/dist-packages (from tensorflow) (75.2.0)\n",
            "Requirement already satisfied: six>=1.12.0 in /usr/local/lib/python3.11/dist-packages (from tensorflow) (1.17.0)\n",
            "Requirement already satisfied: termcolor>=1.1.0 in /usr/local/lib/python3.11/dist-packages (from tensorflow) (3.1.0)\n",
            "Requirement already satisfied: wrapt>=1.11.0 in /usr/local/lib/python3.11/dist-packages (from tensorflow) (1.17.2)\n",
            "Requirement already satisfied: grpcio<2.0,>=1.24.3 in /usr/local/lib/python3.11/dist-packages (from tensorflow) (1.73.0)\n",
            "Requirement already satisfied: tensorboard<2.19,>=2.18 in /usr/local/lib/python3.11/dist-packages (from tensorflow) (2.18.0)\n",
            "Requirement already satisfied: keras>=3.5.0 in /usr/local/lib/python3.11/dist-packages (from tensorflow) (3.8.0)\n",
            "Requirement already satisfied: h5py>=3.11.0 in /usr/local/lib/python3.11/dist-packages (from tensorflow) (3.14.0)\n",
            "Requirement already satisfied: ml-dtypes<0.5.0,>=0.4.0 in /usr/local/lib/python3.11/dist-packages (from tensorflow) (0.4.1)\n",
            "Requirement already satisfied: tensorflow-io-gcs-filesystem>=0.23.1 in /usr/local/lib/python3.11/dist-packages (from tensorflow) (0.37.1)\n",
            "Requirement already satisfied: contourpy>=1.0.1 in /usr/local/lib/python3.11/dist-packages (from matplotlib) (1.3.2)\n",
            "Requirement already satisfied: cycler>=0.10 in /usr/local/lib/python3.11/dist-packages (from matplotlib) (0.12.1)\n",
            "Requirement already satisfied: fonttools>=4.22.0 in /usr/local/lib/python3.11/dist-packages (from matplotlib) (4.58.2)\n",
            "Requirement already satisfied: kiwisolver>=1.3.1 in /usr/local/lib/python3.11/dist-packages (from matplotlib) (1.4.8)\n",
            "Requirement already satisfied: pillow>=8 in /usr/local/lib/python3.11/dist-packages (from matplotlib) (11.2.1)\n",
            "Requirement already satisfied: pyparsing>=2.3.1 in /usr/local/lib/python3.11/dist-packages (from matplotlib) (3.2.3)\n",
            "Requirement already satisfied: python-dateutil>=2.7 in /usr/local/lib/python3.11/dist-packages (from matplotlib) (2.9.0.post0)\n",
            "Requirement already satisfied: wheel<1.0,>=0.23.0 in /usr/local/lib/python3.11/dist-packages (from astunparse>=1.6.0->tensorflow) (0.45.1)\n",
            "Requirement already satisfied: attrs>=21.3.0 in /usr/local/lib/python3.11/dist-packages (from cirq-core>=0.10->pennylane-cirq) (25.3.0)\n",
            "Requirement already satisfied: duet>=0.2.8 in /usr/local/lib/python3.11/dist-packages (from cirq-core>=0.10->pennylane-cirq) (0.2.9)\n",
            "Requirement already satisfied: pandas~=2.0 in /usr/local/lib/python3.11/dist-packages (from cirq-core>=0.10->pennylane-cirq) (2.2.2)\n",
            "Requirement already satisfied: sortedcontainers~=2.0 in /usr/local/lib/python3.11/dist-packages (from cirq-core>=0.10->pennylane-cirq) (2.4.0)\n",
            "Requirement already satisfied: sympy in /usr/local/lib/python3.11/dist-packages (from cirq-core>=0.10->pennylane-cirq) (1.13.1)\n",
            "Requirement already satisfied: tqdm>=4.12 in /usr/local/lib/python3.11/dist-packages (from cirq-core>=0.10->pennylane-cirq) (4.67.1)\n",
            "Requirement already satisfied: rich in /usr/local/lib/python3.11/dist-packages (from keras>=3.5.0->tensorflow) (13.9.4)\n",
            "Requirement already satisfied: namex in /usr/local/lib/python3.11/dist-packages (from keras>=3.5.0->tensorflow) (0.1.0)\n",
            "Requirement already satisfied: optree in /usr/local/lib/python3.11/dist-packages (from keras>=3.5.0->tensorflow) (0.16.0)\n",
            "Requirement already satisfied: scipy-openblas32>=0.3.26 in /usr/local/lib/python3.11/dist-packages (from pennylane-lightning>=0.41->pennylane) (0.3.29.265.1)\n",
            "Requirement already satisfied: charset-normalizer<4,>=2 in /usr/local/lib/python3.11/dist-packages (from requests->pennylane) (3.4.2)\n",
            "Requirement already satisfied: idna<4,>=2.5 in /usr/local/lib/python3.11/dist-packages (from requests->pennylane) (3.10)\n",
            "Requirement already satisfied: urllib3<3,>=1.21.1 in /usr/local/lib/python3.11/dist-packages (from requests->pennylane) (2.4.0)\n",
            "Requirement already satisfied: certifi>=2017.4.17 in /usr/local/lib/python3.11/dist-packages (from requests->pennylane) (2025.4.26)\n",
            "Requirement already satisfied: markdown>=2.6.8 in /usr/local/lib/python3.11/dist-packages (from tensorboard<2.19,>=2.18->tensorflow) (3.8)\n",
            "Requirement already satisfied: tensorboard-data-server<0.8.0,>=0.7.0 in /usr/local/lib/python3.11/dist-packages (from tensorboard<2.19,>=2.18->tensorflow) (0.7.2)\n",
            "Requirement already satisfied: werkzeug>=1.0.1 in /usr/local/lib/python3.11/dist-packages (from tensorboard<2.19,>=2.18->tensorflow) (3.1.3)\n",
            "Requirement already satisfied: pytz>=2020.1 in /usr/local/lib/python3.11/dist-packages (from pandas~=2.0->cirq-core>=0.10->pennylane-cirq) (2025.2)\n",
            "Requirement already satisfied: tzdata>=2022.7 in /usr/local/lib/python3.11/dist-packages (from pandas~=2.0->cirq-core>=0.10->pennylane-cirq) (2025.2)\n",
            "Requirement already satisfied: MarkupSafe>=2.1.1 in /usr/local/lib/python3.11/dist-packages (from werkzeug>=1.0.1->tensorboard<2.19,>=2.18->tensorflow) (3.0.2)\n",
            "Requirement already satisfied: markdown-it-py>=2.2.0 in /usr/local/lib/python3.11/dist-packages (from rich->keras>=3.5.0->tensorflow) (3.0.0)\n",
            "Requirement already satisfied: pygments<3.0.0,>=2.13.0 in /usr/local/lib/python3.11/dist-packages (from rich->keras>=3.5.0->tensorflow) (2.19.1)\n",
            "Requirement already satisfied: mpmath<1.4,>=1.1.0 in /usr/local/lib/python3.11/dist-packages (from sympy->cirq-core>=0.10->pennylane-cirq) (1.3.0)\n",
            "Requirement already satisfied: mdurl~=0.1 in /usr/local/lib/python3.11/dist-packages (from markdown-it-py>=2.2.0->rich->keras>=3.5.0->tensorflow) (0.1.2)\n"
          ]
        }
      ],
      "source": [
        "!pip install pennylane pennylane-cirq tensorflow matplotlib"
      ]
    },
    {
      "cell_type": "code",
      "source": [
        "import numpy as np\n",
        "import tensorflow as tf\n",
        "from sklearn.decomposition import PCA\n",
        "from tensorflow.keras.datasets import mnist\n",
        "from sklearn.metrics import accuracy_score"
      ],
      "metadata": {
        "id": "kjsxLTSTiBsN"
      },
      "execution_count": null,
      "outputs": []
    },
    {
      "cell_type": "markdown",
      "source": [
        "#Load MNIST"
      ],
      "metadata": {
        "id": "3rg726qZj4bl"
      }
    },
    {
      "cell_type": "code",
      "source": [
        "(x_train, y_train), (x_test, y_test) = mnist.load_data()"
      ],
      "metadata": {
        "id": "494-ZvlUiFPJ"
      },
      "execution_count": null,
      "outputs": []
    },
    {
      "cell_type": "markdown",
      "source": [
        "# Keep only digits 0 and 1\n",
        "\n"
      ],
      "metadata": {
        "id": "GbV1VHwolH7G"
      }
    },
    {
      "cell_type": "code",
      "source": [
        "train_filter = np.where((y_train == 0) | (y_train == 1))\n",
        "test_filter = np.where((y_test == 0) | (y_test == 1))\n",
        "\n",
        "x_train, y_train = x_train[train_filter], y_train[train_filter]\n",
        "x_test, y_test = x_test[test_filter], y_test[test_filter]"
      ],
      "metadata": {
        "id": "f7uC5QdHlN3u"
      },
      "execution_count": null,
      "outputs": []
    },
    {
      "cell_type": "markdown",
      "source": [
        "# Downsample using PCA to 4 dimensions for 4 qubits\n"
      ],
      "metadata": {
        "id": "CH7wSPEFlfOB"
      }
    },
    {
      "cell_type": "code",
      "source": [
        "x_train = x_train.reshape((-1, 28*28)) / 255.0\n",
        "x_test = x_test.reshape((-1, 28*28)) / 255.0"
      ],
      "metadata": {
        "id": "kOzAaQX4leXX"
      },
      "execution_count": null,
      "outputs": []
    },
    {
      "cell_type": "code",
      "source": [
        "pca = PCA(n_components=4)\n",
        "x_train = pca.fit_transform(x_train)\n",
        "x_test = pca.transform(x_test)"
      ],
      "metadata": {
        "id": "kLXX6HFplYHV"
      },
      "execution_count": null,
      "outputs": []
    },
    {
      "cell_type": "markdown",
      "source": [
        "#Build QNN in Cirq"
      ],
      "metadata": {
        "id": "1v-Y-ZcNlm2G"
      }
    },
    {
      "cell_type": "code",
      "source": [
        "import cirq"
      ],
      "metadata": {
        "id": "DCn6Dpl3lk3B"
      },
      "execution_count": null,
      "outputs": []
    },
    {
      "cell_type": "markdown",
      "source": [
        "# Define 4 qubits"
      ],
      "metadata": {
        "id": "LgD96vNQltqL"
      }
    },
    {
      "cell_type": "code",
      "source": [
        "qubits = [cirq.GridQubit(0, i) for i in range(4)]"
      ],
      "metadata": {
        "id": "cqDgUZSalpQ7"
      },
      "execution_count": null,
      "outputs": []
    },
    {
      "cell_type": "markdown",
      "source": [
        "# Encode classical data with Ry rotations\n"
      ],
      "metadata": {
        "id": "qLk9jAuvmCpi"
      }
    },
    {
      "cell_type": "code",
      "source": [
        "def encode_data(x):\n",
        "    return [cirq.ry(x[i])(qubits[i]) for i in range(4)]"
      ],
      "metadata": {
        "id": "T9wsaGdjls-q"
      },
      "execution_count": null,
      "outputs": []
    },
    {
      "cell_type": "markdown",
      "source": [
        "# Parameterized layer\n"
      ],
      "metadata": {
        "id": "F16uxaPxo-y3"
      }
    },
    {
      "cell_type": "code",
      "source": [
        "def variational_layer(params):\n",
        "    ops = []\n",
        "    for i in range(4):\n",
        "        ops.append(cirq.rz(params[i])(qubits[i]))\n",
        "        ops.append(cirq.ry(params[i + 4])(qubits[i]))\n",
        "    # Add entanglement\n",
        "    for i in range(3):\n",
        "        ops.append(cirq.CNOT(qubits[i], qubits[i+1]))\n",
        "    return ops"
      ],
      "metadata": {
        "id": "OOmBEzLLl0CC"
      },
      "execution_count": null,
      "outputs": []
    },
    {
      "cell_type": "markdown",
      "source": [
        "# Full circuit\n"
      ],
      "metadata": {
        "id": "v3ImgpiOpCEP"
      }
    },
    {
      "cell_type": "code",
      "source": [
        "def create_circuit(x, params):\n",
        "    circuit = cirq.Circuit()\n",
        "    circuit.append(encode_data(x))\n",
        "    circuit.append(variational_layer(params))\n",
        "    return circuit"
      ],
      "metadata": {
        "id": "e-FNCoWPl4xJ"
      },
      "execution_count": null,
      "outputs": []
    },
    {
      "cell_type": "markdown",
      "source": [
        "#Define Expectation Measurement"
      ],
      "metadata": {
        "id": "oBKAJFPtl9gY"
      }
    },
    {
      "cell_type": "code",
      "source": [
        "simulator = cirq.Simulator()"
      ],
      "metadata": {
        "id": "VZPNZVwNl6jX"
      },
      "execution_count": null,
      "outputs": []
    },
    {
      "cell_type": "code",
      "source": [
        "def predict(x, params):\n",
        "    circuit = create_circuit(x, params)\n",
        "    circuit.append(cirq.measure(qubits[0], key='m'))\n",
        "    result = simulator.run(circuit, repetitions=100)\n",
        "    counts = result.histogram(key='m')\n",
        "    prob_0 = counts.get(0, 0) / 100\n",
        "    return prob_0  # closer to 1 = class 0"
      ],
      "metadata": {
        "id": "j3sMZbBZpMuo"
      },
      "execution_count": null,
      "outputs": []
    },
    {
      "cell_type": "markdown",
      "source": [
        "#Train with Manual Parameter Shift"
      ],
      "metadata": {
        "id": "ib9f4KfomGHY"
      }
    },
    {
      "cell_type": "code",
      "source": [
        "def binary_cross_entropy(y_true, y_pred):\n",
        "    epsilon = 1e-10\n",
        "    return - (y_true * np.log(y_pred + epsilon) + (1 - y_true) * np.log(1 - y_pred + epsilon))\n"
      ],
      "metadata": {
        "id": "-BFibQ70l81N"
      },
      "execution_count": null,
      "outputs": []
    },
    {
      "cell_type": "code",
      "source": [
        "def parameter_shift_grad(x, y, params, shift=np.pi/2):\n",
        "    grads = np.zeros_like(params)\n",
        "    for i in range(len(params)):\n",
        "        plus = params.copy()\n",
        "        minus = params.copy()\n",
        "        plus[i] += shift\n",
        "        minus[i] -= shift\n",
        "        y_pred_plus = predict(x, plus)\n",
        "        y_pred_minus = predict(x, minus)\n",
        "        loss_plus = binary_cross_entropy(y, y_pred_plus)\n",
        "        loss_minus = binary_cross_entropy(y, y_pred_minus)\n",
        "        grads[i] = 0.5 * (loss_plus - loss_minus)\n",
        "    return grads"
      ],
      "metadata": {
        "id": "7lGev1nJmN6H"
      },
      "execution_count": null,
      "outputs": []
    },
    {
      "cell_type": "markdown",
      "source": [
        "#Training Loop (Small Subset)"
      ],
      "metadata": {
        "id": "vwbDwMMEpXh1"
      }
    },
    {
      "cell_type": "code",
      "source": [
        "x_train_small = x_train[:100]\n",
        "y_train_small = y_train[:100]\n",
        "x_test_small = x_test[:100]\n",
        "y_test_small = y_test[:100]"
      ],
      "metadata": {
        "id": "PMz5Nrg8mPzF"
      },
      "execution_count": null,
      "outputs": []
    },
    {
      "cell_type": "code",
      "source": [
        "params = np.random.uniform(0, 2*np.pi, size=8)\n",
        "learning_rate = 0.1"
      ],
      "metadata": {
        "id": "hLSvgLmImRyt"
      },
      "execution_count": null,
      "outputs": []
    },
    {
      "cell_type": "code",
      "source": [
        "for epoch in range(25):\n",
        "    total_loss = 0\n",
        "    for x, y in zip(x_train_small, y_train_small):\n",
        "        y_pred = predict(x, params)\n",
        "        loss = binary_cross_entropy(y, y_pred)\n",
        "        grads = parameter_shift_grad(x, y, params)\n",
        "        params -= learning_rate * grads\n",
        "        total_loss += loss\n",
        "    print(f\"Epoch {epoch+1}: Loss = {total_loss/len(x_train_small):.4f}\")"
      ],
      "metadata": {
        "colab": {
          "base_uri": "https://localhost:8080/"
        },
        "id": "jtixcmzmmTsp",
        "outputId": "f7390447-e82b-4afe-d9ae-e7008b6cf480"
      },
      "execution_count": null,
      "outputs": [
        {
          "output_type": "stream",
          "name": "stdout",
          "text": [
            "Epoch 1: Loss = 0.6847\n",
            "Epoch 2: Loss = 0.4810\n",
            "Epoch 3: Loss = 1.1134\n",
            "Epoch 4: Loss = 1.1437\n",
            "Epoch 5: Loss = 0.9475\n",
            "Epoch 6: Loss = 0.8955\n",
            "Epoch 7: Loss = 0.7125\n",
            "Epoch 8: Loss = 0.9891\n",
            "Epoch 9: Loss = 0.9346\n",
            "Epoch 10: Loss = 0.7479\n",
            "Epoch 11: Loss = 0.7143\n",
            "Epoch 12: Loss = 0.9518\n",
            "Epoch 13: Loss = 0.7548\n",
            "Epoch 14: Loss = 0.5874\n",
            "Epoch 15: Loss = 1.3837\n",
            "Epoch 16: Loss = 0.7563\n",
            "Epoch 17: Loss = 0.7869\n",
            "Epoch 18: Loss = 0.9083\n",
            "Epoch 19: Loss = 0.9864\n",
            "Epoch 20: Loss = 0.9727\n",
            "Epoch 21: Loss = 0.7240\n",
            "Epoch 22: Loss = 0.7542\n",
            "Epoch 23: Loss = 0.7386\n",
            "Epoch 24: Loss = 0.6452\n",
            "Epoch 25: Loss = 0.7551\n"
          ]
        }
      ]
    },
    {
      "cell_type": "markdown",
      "source": [
        "#Evaluate"
      ],
      "metadata": {
        "id": "eM7k4-vSpk0Z"
      }
    },
    {
      "cell_type": "code",
      "source": [
        "# correct = 0\n",
        "# for x, y in zip(x_test[:100], y_test[:100]):\n",
        "#     y_pred = predict(x, params)\n",
        "#     predicted_label = 1 if y_pred < 0.5 else 0\n",
        "#     correct += int(predicted_label == y)\n",
        "# print(f\"Accuracy: {correct} / 100 = {correct}%\")\n",
        "\n",
        "\n",
        "preds = [1 if predict(x, params) > 0.5 else 0 for x in x_test_small]\n",
        "acc = accuracy_score(y_test_small, preds)\n",
        "print(f\"\\nTest Accuracy: {acc * 100:.2f}%\")\n"
      ],
      "metadata": {
        "colab": {
          "base_uri": "https://localhost:8080/"
        },
        "id": "-SxA4KRapf_I",
        "outputId": "d6c24c59-3df6-4ede-aa2d-7c213dd1e6a9"
      },
      "execution_count": null,
      "outputs": [
        {
          "output_type": "stream",
          "name": "stdout",
          "text": [
            "\n",
            "Test Accuracy: 75.00%\n"
          ]
        }
      ]
    },
    {
      "cell_type": "markdown",
      "source": [
        "#USING QISKIT"
      ],
      "metadata": {
        "id": "6dj8mgbbq3Dq"
      }
    },
    {
      "cell_type": "code",
      "source": [
        "!pip install qiskit qiskit-aer scikit-learn matplotlib tensorflow"
      ],
      "metadata": {
        "colab": {
          "base_uri": "https://localhost:8080/"
        },
        "id": "M-7ROGqPprED",
        "outputId": "4694110b-a97e-42ec-950c-9244a12bd58a"
      },
      "execution_count": null,
      "outputs": [
        {
          "output_type": "stream",
          "name": "stdout",
          "text": [
            "Collecting qiskit\n",
            "  Downloading qiskit-2.1.0-cp39-abi3-manylinux_2_17_x86_64.manylinux2014_x86_64.whl.metadata (12 kB)\n",
            "Collecting qiskit-aer\n",
            "  Downloading qiskit_aer-0.17.1-cp311-cp311-manylinux_2_17_x86_64.manylinux2014_x86_64.whl.metadata (8.3 kB)\n",
            "Requirement already satisfied: scikit-learn in /usr/local/lib/python3.11/dist-packages (1.6.1)\n",
            "Requirement already satisfied: matplotlib in /usr/local/lib/python3.11/dist-packages (3.10.0)\n",
            "Requirement already satisfied: tensorflow in /usr/local/lib/python3.11/dist-packages (2.18.0)\n",
            "Collecting rustworkx>=0.15.0 (from qiskit)\n",
            "  Downloading rustworkx-0.16.0-cp39-abi3-manylinux_2_17_x86_64.manylinux2014_x86_64.whl.metadata (10 kB)\n",
            "Requirement already satisfied: numpy<3,>=1.17 in /usr/local/lib/python3.11/dist-packages (from qiskit) (2.0.2)\n",
            "Requirement already satisfied: scipy>=1.5 in /usr/local/lib/python3.11/dist-packages (from qiskit) (1.15.3)\n",
            "Requirement already satisfied: dill>=0.3 in /usr/local/lib/python3.11/dist-packages (from qiskit) (0.3.7)\n",
            "Collecting stevedore>=3.0.0 (from qiskit)\n",
            "  Downloading stevedore-5.4.1-py3-none-any.whl.metadata (2.3 kB)\n",
            "Requirement already satisfied: typing-extensions in /usr/local/lib/python3.11/dist-packages (from qiskit) (4.14.0)\n",
            "Requirement already satisfied: psutil>=5 in /usr/local/lib/python3.11/dist-packages (from qiskit-aer) (5.9.5)\n",
            "Requirement already satisfied: python-dateutil>=2.8.0 in /usr/local/lib/python3.11/dist-packages (from qiskit-aer) (2.9.0.post0)\n",
            "Requirement already satisfied: joblib>=1.2.0 in /usr/local/lib/python3.11/dist-packages (from scikit-learn) (1.5.1)\n",
            "Requirement already satisfied: threadpoolctl>=3.1.0 in /usr/local/lib/python3.11/dist-packages (from scikit-learn) (3.6.0)\n",
            "Requirement already satisfied: contourpy>=1.0.1 in /usr/local/lib/python3.11/dist-packages (from matplotlib) (1.3.2)\n",
            "Requirement already satisfied: cycler>=0.10 in /usr/local/lib/python3.11/dist-packages (from matplotlib) (0.12.1)\n",
            "Requirement already satisfied: fonttools>=4.22.0 in /usr/local/lib/python3.11/dist-packages (from matplotlib) (4.58.4)\n",
            "Requirement already satisfied: kiwisolver>=1.3.1 in /usr/local/lib/python3.11/dist-packages (from matplotlib) (1.4.8)\n",
            "Requirement already satisfied: packaging>=20.0 in /usr/local/lib/python3.11/dist-packages (from matplotlib) (24.2)\n",
            "Requirement already satisfied: pillow>=8 in /usr/local/lib/python3.11/dist-packages (from matplotlib) (11.2.1)\n",
            "Requirement already satisfied: pyparsing>=2.3.1 in /usr/local/lib/python3.11/dist-packages (from matplotlib) (3.2.3)\n",
            "Requirement already satisfied: absl-py>=1.0.0 in /usr/local/lib/python3.11/dist-packages (from tensorflow) (1.4.0)\n",
            "Requirement already satisfied: astunparse>=1.6.0 in /usr/local/lib/python3.11/dist-packages (from tensorflow) (1.6.3)\n",
            "Requirement already satisfied: flatbuffers>=24.3.25 in /usr/local/lib/python3.11/dist-packages (from tensorflow) (25.2.10)\n",
            "Requirement already satisfied: gast!=0.5.0,!=0.5.1,!=0.5.2,>=0.2.1 in /usr/local/lib/python3.11/dist-packages (from tensorflow) (0.6.0)\n",
            "Requirement already satisfied: google-pasta>=0.1.1 in /usr/local/lib/python3.11/dist-packages (from tensorflow) (0.2.0)\n",
            "Requirement already satisfied: libclang>=13.0.0 in /usr/local/lib/python3.11/dist-packages (from tensorflow) (18.1.1)\n",
            "Requirement already satisfied: opt-einsum>=2.3.2 in /usr/local/lib/python3.11/dist-packages (from tensorflow) (3.4.0)\n",
            "Requirement already satisfied: protobuf!=4.21.0,!=4.21.1,!=4.21.2,!=4.21.3,!=4.21.4,!=4.21.5,<6.0.0dev,>=3.20.3 in /usr/local/lib/python3.11/dist-packages (from tensorflow) (5.29.5)\n",
            "Requirement already satisfied: requests<3,>=2.21.0 in /usr/local/lib/python3.11/dist-packages (from tensorflow) (2.32.3)\n",
            "Requirement already satisfied: setuptools in /usr/local/lib/python3.11/dist-packages (from tensorflow) (75.2.0)\n",
            "Requirement already satisfied: six>=1.12.0 in /usr/local/lib/python3.11/dist-packages (from tensorflow) (1.17.0)\n",
            "Requirement already satisfied: termcolor>=1.1.0 in /usr/local/lib/python3.11/dist-packages (from tensorflow) (3.1.0)\n",
            "Requirement already satisfied: wrapt>=1.11.0 in /usr/local/lib/python3.11/dist-packages (from tensorflow) (1.17.2)\n",
            "Requirement already satisfied: grpcio<2.0,>=1.24.3 in /usr/local/lib/python3.11/dist-packages (from tensorflow) (1.73.0)\n",
            "Requirement already satisfied: tensorboard<2.19,>=2.18 in /usr/local/lib/python3.11/dist-packages (from tensorflow) (2.18.0)\n",
            "Requirement already satisfied: keras>=3.5.0 in /usr/local/lib/python3.11/dist-packages (from tensorflow) (3.8.0)\n",
            "Requirement already satisfied: h5py>=3.11.0 in /usr/local/lib/python3.11/dist-packages (from tensorflow) (3.14.0)\n",
            "Requirement already satisfied: ml-dtypes<0.5.0,>=0.4.0 in /usr/local/lib/python3.11/dist-packages (from tensorflow) (0.4.1)\n",
            "Requirement already satisfied: tensorflow-io-gcs-filesystem>=0.23.1 in /usr/local/lib/python3.11/dist-packages (from tensorflow) (0.37.1)\n",
            "Requirement already satisfied: wheel<1.0,>=0.23.0 in /usr/local/lib/python3.11/dist-packages (from astunparse>=1.6.0->tensorflow) (0.45.1)\n",
            "Requirement already satisfied: rich in /usr/local/lib/python3.11/dist-packages (from keras>=3.5.0->tensorflow) (13.9.4)\n",
            "Requirement already satisfied: namex in /usr/local/lib/python3.11/dist-packages (from keras>=3.5.0->tensorflow) (0.1.0)\n",
            "Requirement already satisfied: optree in /usr/local/lib/python3.11/dist-packages (from keras>=3.5.0->tensorflow) (0.16.0)\n",
            "Requirement already satisfied: charset-normalizer<4,>=2 in /usr/local/lib/python3.11/dist-packages (from requests<3,>=2.21.0->tensorflow) (3.4.2)\n",
            "Requirement already satisfied: idna<4,>=2.5 in /usr/local/lib/python3.11/dist-packages (from requests<3,>=2.21.0->tensorflow) (3.10)\n",
            "Requirement already satisfied: urllib3<3,>=1.21.1 in /usr/local/lib/python3.11/dist-packages (from requests<3,>=2.21.0->tensorflow) (2.4.0)\n",
            "Requirement already satisfied: certifi>=2017.4.17 in /usr/local/lib/python3.11/dist-packages (from requests<3,>=2.21.0->tensorflow) (2025.6.15)\n",
            "Collecting pbr>=2.0.0 (from stevedore>=3.0.0->qiskit)\n",
            "  Downloading pbr-6.1.1-py2.py3-none-any.whl.metadata (3.4 kB)\n",
            "Requirement already satisfied: markdown>=2.6.8 in /usr/local/lib/python3.11/dist-packages (from tensorboard<2.19,>=2.18->tensorflow) (3.8)\n",
            "Requirement already satisfied: tensorboard-data-server<0.8.0,>=0.7.0 in /usr/local/lib/python3.11/dist-packages (from tensorboard<2.19,>=2.18->tensorflow) (0.7.2)\n",
            "Requirement already satisfied: werkzeug>=1.0.1 in /usr/local/lib/python3.11/dist-packages (from tensorboard<2.19,>=2.18->tensorflow) (3.1.3)\n",
            "Requirement already satisfied: MarkupSafe>=2.1.1 in /usr/local/lib/python3.11/dist-packages (from werkzeug>=1.0.1->tensorboard<2.19,>=2.18->tensorflow) (3.0.2)\n",
            "Requirement already satisfied: markdown-it-py>=2.2.0 in /usr/local/lib/python3.11/dist-packages (from rich->keras>=3.5.0->tensorflow) (3.0.0)\n",
            "Requirement already satisfied: pygments<3.0.0,>=2.13.0 in /usr/local/lib/python3.11/dist-packages (from rich->keras>=3.5.0->tensorflow) (2.19.1)\n",
            "Requirement already satisfied: mdurl~=0.1 in /usr/local/lib/python3.11/dist-packages (from markdown-it-py>=2.2.0->rich->keras>=3.5.0->tensorflow) (0.1.2)\n",
            "Downloading qiskit-2.1.0-cp39-abi3-manylinux_2_17_x86_64.manylinux2014_x86_64.whl (7.5 MB)\n",
            "\u001b[2K   \u001b[90m━━━━━━━━━━━━━━━━━━━━━━━━━━━━━━━━━━━━━━━━\u001b[0m \u001b[32m7.5/7.5 MB\u001b[0m \u001b[31m30.6 MB/s\u001b[0m eta \u001b[36m0:00:00\u001b[0m\n",
            "\u001b[?25hDownloading qiskit_aer-0.17.1-cp311-cp311-manylinux_2_17_x86_64.manylinux2014_x86_64.whl (12.4 MB)\n",
            "\u001b[2K   \u001b[90m━━━━━━━━━━━━━━━━━━━━━━━━━━━━━━━━━━━━━━━━\u001b[0m \u001b[32m12.4/12.4 MB\u001b[0m \u001b[31m36.0 MB/s\u001b[0m eta \u001b[36m0:00:00\u001b[0m\n",
            "\u001b[?25hDownloading rustworkx-0.16.0-cp39-abi3-manylinux_2_17_x86_64.manylinux2014_x86_64.whl (2.1 MB)\n",
            "\u001b[2K   \u001b[90m━━━━━━━━━━━━━━━━━━━━━━━━━━━━━━━━━━━━━━━━\u001b[0m \u001b[32m2.1/2.1 MB\u001b[0m \u001b[31m23.1 MB/s\u001b[0m eta \u001b[36m0:00:00\u001b[0m\n",
            "\u001b[?25hDownloading stevedore-5.4.1-py3-none-any.whl (49 kB)\n",
            "\u001b[2K   \u001b[90m━━━━━━━━━━━━━━━━━━━━━━━━━━━━━━━━━━━━━━━━\u001b[0m \u001b[32m49.5/49.5 kB\u001b[0m \u001b[31m2.2 MB/s\u001b[0m eta \u001b[36m0:00:00\u001b[0m\n",
            "\u001b[?25hDownloading pbr-6.1.1-py2.py3-none-any.whl (108 kB)\n",
            "\u001b[2K   \u001b[90m━━━━━━━━━━━━━━━━━━━━━━━━━━━━━━━━━━━━━━━━\u001b[0m \u001b[32m109.0/109.0 kB\u001b[0m \u001b[31m4.5 MB/s\u001b[0m eta \u001b[36m0:00:00\u001b[0m\n",
            "\u001b[?25hInstalling collected packages: rustworkx, pbr, stevedore, qiskit, qiskit-aer\n",
            "Successfully installed pbr-6.1.1 qiskit-2.1.0 qiskit-aer-0.17.1 rustworkx-0.16.0 stevedore-5.4.1\n"
          ]
        }
      ]
    },
    {
      "cell_type": "code",
      "source": [
        "!pip install qiskit-aer --upgrade"
      ],
      "metadata": {
        "colab": {
          "base_uri": "https://localhost:8080/"
        },
        "id": "x1MtzYi_rMCr",
        "outputId": "3a4173b3-228f-47aa-e471-16dcca6da34f"
      },
      "execution_count": null,
      "outputs": [
        {
          "output_type": "stream",
          "name": "stdout",
          "text": [
            "Requirement already satisfied: qiskit-aer in /usr/local/lib/python3.11/dist-packages (0.17.1)\n",
            "Requirement already satisfied: qiskit>=1.1.0 in /usr/local/lib/python3.11/dist-packages (from qiskit-aer) (2.1.0)\n",
            "Requirement already satisfied: numpy>=1.16.3 in /usr/local/lib/python3.11/dist-packages (from qiskit-aer) (2.0.2)\n",
            "Requirement already satisfied: scipy>=1.0 in /usr/local/lib/python3.11/dist-packages (from qiskit-aer) (1.15.3)\n",
            "Requirement already satisfied: psutil>=5 in /usr/local/lib/python3.11/dist-packages (from qiskit-aer) (5.9.5)\n",
            "Requirement already satisfied: python-dateutil>=2.8.0 in /usr/local/lib/python3.11/dist-packages (from qiskit-aer) (2.9.0.post0)\n",
            "Requirement already satisfied: six>=1.5 in /usr/local/lib/python3.11/dist-packages (from python-dateutil>=2.8.0->qiskit-aer) (1.17.0)\n",
            "Requirement already satisfied: rustworkx>=0.15.0 in /usr/local/lib/python3.11/dist-packages (from qiskit>=1.1.0->qiskit-aer) (0.16.0)\n",
            "Requirement already satisfied: dill>=0.3 in /usr/local/lib/python3.11/dist-packages (from qiskit>=1.1.0->qiskit-aer) (0.3.7)\n",
            "Requirement already satisfied: stevedore>=3.0.0 in /usr/local/lib/python3.11/dist-packages (from qiskit>=1.1.0->qiskit-aer) (5.4.1)\n",
            "Requirement already satisfied: typing-extensions in /usr/local/lib/python3.11/dist-packages (from qiskit>=1.1.0->qiskit-aer) (4.14.0)\n",
            "Requirement already satisfied: pbr>=2.0.0 in /usr/local/lib/python3.11/dist-packages (from stevedore>=3.0.0->qiskit>=1.1.0->qiskit-aer) (6.1.1)\n",
            "Requirement already satisfied: setuptools in /usr/local/lib/python3.11/dist-packages (from pbr>=2.0.0->stevedore>=3.0.0->qiskit>=1.1.0->qiskit-aer) (75.2.0)\n"
          ]
        }
      ]
    },
    {
      "cell_type": "code",
      "source": [
        "import numpy as np\n",
        "from sklearn.decomposition import PCA\n",
        "from sklearn.metrics import accuracy_score\n",
        "import matplotlib.pyplot as plt\n",
        "from tensorflow.keras.datasets import mnist\n",
        "from qiskit import QuantumCircuit\n",
        "from qiskit.circuit import ParameterVector\n",
        "from qiskit_aer.primitives import Sampler\n",
        "from concurrent.futures import ThreadPoolExecutor\n",
        "import time"
      ],
      "metadata": {
        "id": "otxw8i3-q86a"
      },
      "execution_count": null,
      "outputs": []
    },
    {
      "cell_type": "markdown",
      "source": [
        "# Step 1: Load and preprocess MNIST data"
      ],
      "metadata": {
        "id": "a6e_X1QzrvuK"
      }
    },
    {
      "cell_type": "code",
      "source": [
        "(x_train, y_train), (x_test, y_test) = mnist.load_data()"
      ],
      "metadata": {
        "id": "rVL8J8qErTeX",
        "colab": {
          "base_uri": "https://localhost:8080/"
        },
        "outputId": "e108f1a1-dafc-4b4f-8c07-ac701a9c634c"
      },
      "execution_count": null,
      "outputs": [
        {
          "output_type": "stream",
          "name": "stdout",
          "text": [
            "Downloading data from https://storage.googleapis.com/tensorflow/tf-keras-datasets/mnist.npz\n",
            "\u001b[1m11490434/11490434\u001b[0m \u001b[32m━━━━━━━━━━━━━━━━━━━━\u001b[0m\u001b[37m\u001b[0m \u001b[1m0s\u001b[0m 0us/step\n"
          ]
        }
      ]
    },
    {
      "cell_type": "markdown",
      "source": [
        "# Filter digits 0 and 1"
      ],
      "metadata": {
        "id": "iaU8WkTNry5H"
      }
    },
    {
      "cell_type": "code",
      "source": [
        "train_filter = np.where((y_train == 0) | (y_train == 1))\n",
        "test_filter = np.where((y_test == 0) | (y_test == 1))"
      ],
      "metadata": {
        "id": "UOlRg6G-ryfe"
      },
      "execution_count": null,
      "outputs": []
    },
    {
      "cell_type": "code",
      "source": [
        "x_train, y_train = x_train[train_filter], y_train[train_filter]\n",
        "x_test, y_test = x_test[test_filter], y_test[test_filter]"
      ],
      "metadata": {
        "id": "mTMYW7SPr1jm"
      },
      "execution_count": null,
      "outputs": []
    },
    {
      "cell_type": "markdown",
      "source": [
        "# Normalize and flatten"
      ],
      "metadata": {
        "id": "LO4Hn3X6r3IJ"
      }
    },
    {
      "cell_type": "code",
      "source": [
        "x_train = x_train.reshape((-1, 28*28)) / 255.0\n",
        "x_test = x_test.reshape((-1, 28*28)) / 255.0"
      ],
      "metadata": {
        "id": "xkk2Gmj8r2w5"
      },
      "execution_count": null,
      "outputs": []
    },
    {
      "cell_type": "markdown",
      "source": [
        "# Reduce to 4 features for 4 qubits"
      ],
      "metadata": {
        "id": "DJ3NzUbGr9e5"
      }
    },
    {
      "cell_type": "code",
      "source": [
        "pca = PCA(n_components=4)\n",
        "x_train = pca.fit_transform(x_train)\n",
        "x_test = pca.transform(x_test)"
      ],
      "metadata": {
        "id": "6yBmIU69r6Zj"
      },
      "execution_count": null,
      "outputs": []
    },
    {
      "cell_type": "markdown",
      "source": [
        "# Scale data to [0, π] for better quantum encoding\n"
      ],
      "metadata": {
        "id": "VxttOKaa4iQp"
      }
    },
    {
      "cell_type": "code",
      "source": [
        "x_train = np.abs(x_train) * np.pi\n",
        "x_test = np.abs(x_test) * np.pi"
      ],
      "metadata": {
        "id": "vgb7_Uz44hnO"
      },
      "execution_count": null,
      "outputs": []
    },
    {
      "cell_type": "markdown",
      "source": [
        "# Subset for quick testing"
      ],
      "metadata": {
        "id": "PUfuSKmosBtN"
      }
    },
    {
      "cell_type": "code",
      "source": [
        "x_train_small = x_train[:50]\n",
        "y_train_small = y_train[:50]\n",
        "x_test_small = x_test[:50]\n",
        "y_test_small = y_test[:50]"
      ],
      "metadata": {
        "id": "fjGamPhar7tH"
      },
      "execution_count": null,
      "outputs": []
    },
    {
      "cell_type": "markdown",
      "source": [
        "# Step 2: Build variational quantum circuit with data and parameters\n"
      ],
      "metadata": {
        "id": "2P1fvpa0sFM-"
      }
    },
    {
      "cell_type": "code",
      "source": [
        "def build_circuit(data_point, weights):\n",
        "    \"\"\"Build circuit for given data and weights\"\"\"\n",
        "    qc = QuantumCircuit(4)\n",
        "    qc.reset(range(4))\n",
        "\n",
        "    # Encode data\n",
        "    for i in range(4):\n",
        "        qc.ry(data_point[i], i)\n",
        "\n",
        "    # Parameterized layer\n",
        "    for i in range(4):\n",
        "        qc.rz(weights[i], i)\n",
        "        qc.ry(weights[i+4], i)\n",
        "\n",
        "    # Entangling layer\n",
        "    for i in range(3):\n",
        "        qc.cx(i, i+1)\n",
        "\n",
        "    qc.measure_all()\n",
        "    return qc"
      ],
      "metadata": {
        "id": "8ZxhonSHsDyc"
      },
      "execution_count": null,
      "outputs": []
    },
    {
      "cell_type": "markdown",
      "source": [
        "# Step 3: Inference using Qiskit's Sampler\n"
      ],
      "metadata": {
        "id": "tutmhEeJsIoE"
      }
    },
    {
      "cell_type": "code",
      "source": [
        "sampler = Sampler()"
      ],
      "metadata": {
        "id": "ljajiDtesHH_"
      },
      "execution_count": null,
      "outputs": []
    },
    {
      "cell_type": "code",
      "source": [
        "def batch_predict(X, params, batch_size=10):\n",
        "    \"\"\"Predict in batches to reduce overhead\"\"\"\n",
        "    predictions = []\n",
        "\n",
        "    for i in range(0, len(X), batch_size):\n",
        "        batch_X = X[i:i+batch_size]\n",
        "        batch_circuits = []\n",
        "\n",
        "        # Create circuits for the batch\n",
        "        for x in batch_X:\n",
        "            circuit = build_circuit(x, params)\n",
        "            batch_circuits.append(circuit)\n",
        "\n",
        "        # Run batch\n",
        "        job = sampler.run(batch_circuits)\n",
        "        results = job.result()\n",
        "\n",
        "        # Process results\n",
        "        for quasi_dist in results.quasi_dists:\n",
        "            prob_0 = sum(p for key, p in quasi_dist.items()\n",
        "                        if format(key, '04b')[-1] == '0')\n",
        "            predictions.append(prob_0)\n",
        "\n",
        "    return np.array(predictions)"
      ],
      "metadata": {
        "id": "dYFiSDkgsKbr"
      },
      "execution_count": null,
      "outputs": []
    },
    {
      "cell_type": "code",
      "source": [
        "def compute_gradients_efficient(X, y, params):\n",
        "    \"\"\"Compute gradients with minimal circuit executions\"\"\"\n",
        "    grads = np.zeros_like(params)\n",
        "    shift = np.pi / 2\n",
        "\n",
        "    # Get baseline predictions\n",
        "    baseline_preds = batch_predict(X, params, batch_size=len(X))\n",
        "    baseline_loss = np.mean(binary_cross_entropy(y, baseline_preds))\n",
        "\n",
        "    # Compute gradients using forward differences (half the circuit calls)\n",
        "    for i in range(len(params)):\n",
        "        params_shifted = params.copy()\n",
        "        params_shifted[i] += shift\n",
        "\n",
        "        shifted_preds = batch_predict(X, params_shifted, batch_size=len(X))\n",
        "        shifted_loss = np.mean(binary_cross_entropy(y, shifted_preds))\n",
        "\n",
        "        # Forward difference approximation\n",
        "        grads[i] = (shifted_loss - baseline_loss) / shift\n",
        "\n",
        "    return grads"
      ],
      "metadata": {
        "id": "dsL92kGk5ALL"
      },
      "execution_count": null,
      "outputs": []
    },
    {
      "cell_type": "markdown",
      "source": [
        "# Binary cross-entropy loss\n"
      ],
      "metadata": {
        "id": "9cvPkXdksOS6"
      }
    },
    {
      "cell_type": "code",
      "source": [
        "def binary_cross_entropy(y_true, y_pred):\n",
        "    epsilon = 1e-10\n",
        "    y_pred = np.clip(y_pred, epsilon, 1 - epsilon)\n",
        "    return -(y_true * np.log(y_pred) + (1 - y_true) * np.log(1 - y_pred))"
      ],
      "metadata": {
        "id": "wpYKVDn0sNTD"
      },
      "execution_count": null,
      "outputs": []
    },
    {
      "cell_type": "markdown",
      "source": [
        "# Step 4: Train QNN"
      ],
      "metadata": {
        "id": "mTnhoaR7sV3K"
      }
    },
    {
      "cell_type": "code",
      "source": [
        "print(\"Starting optimized training...\")\n",
        "params = np.random.uniform(0, 2 * np.pi, size=8)\n",
        "lr = 0.1  # Slightly reduced learning rate"
      ],
      "metadata": {
        "colab": {
          "base_uri": "https://localhost:8080/"
        },
        "id": "iaCed9h85IYD",
        "outputId": "5bee1f05-8bd1-4666-beb9-bd456401c7dd"
      },
      "execution_count": null,
      "outputs": [
        {
          "output_type": "stream",
          "name": "stdout",
          "text": [
            "Starting optimized training...\n"
          ]
        }
      ]
    },
    {
      "cell_type": "code",
      "source": [
        "batch_size = 25  # Process half the data at once\n",
        "n_epochs = 5"
      ],
      "metadata": {
        "id": "TOl4mSfg5Lmq"
      },
      "execution_count": null,
      "outputs": []
    },
    {
      "cell_type": "code",
      "source": [
        "for epoch in range(n_epochs):\n",
        "    start_time = time.time()\n",
        "\n",
        "    # Shuffle data\n",
        "    indices = np.random.permutation(len(x_train_small))\n",
        "    x_shuffled = x_train_small[indices]\n",
        "    y_shuffled = y_train_small[indices]\n",
        "\n",
        "    epoch_loss = 0\n",
        "    n_batches = 0\n",
        "\n",
        "    for i in range(0, len(x_train_small), batch_size):\n",
        "        batch_x = x_shuffled[i:i+batch_size]\n",
        "        batch_y = y_shuffled[i:i+batch_size]\n",
        "\n",
        "        # Compute gradients for the batch\n",
        "        grads = compute_gradients_efficient(batch_x, batch_y, params)\n",
        "\n",
        "        # Update parameters\n",
        "        params -= lr * grads\n",
        "\n",
        "        # Compute loss for monitoring\n",
        "        preds = batch_predict(batch_x, params, batch_size=len(batch_x))\n",
        "        batch_loss = np.mean(binary_cross_entropy(batch_y, preds))\n",
        "        epoch_loss += batch_loss\n",
        "        n_batches += 1\n",
        "\n",
        "    avg_loss = epoch_loss / n_batches\n",
        "    epoch_time = time.time() - start_time\n",
        "\n",
        "    print(f\"Epoch {epoch+1}: Loss = {avg_loss:.4f}, Time = {epoch_time:.1f}s\")\n"
      ],
      "metadata": {
        "id": "CgnBdZzFsQYF",
        "colab": {
          "base_uri": "https://localhost:8080/"
        },
        "outputId": "ad0e6295-9e21-4db3-e58c-1a096ecb4c89"
      },
      "execution_count": null,
      "outputs": [
        {
          "output_type": "stream",
          "name": "stdout",
          "text": [
            "Epoch 1: Loss = 1.5564, Time = 116.6s\n",
            "Epoch 2: Loss = 1.1615, Time = 104.7s\n",
            "Epoch 3: Loss = 1.1441, Time = 103.8s\n",
            "Epoch 4: Loss = 1.1458, Time = 112.3s\n",
            "Epoch 5: Loss = 1.1407, Time = 110.6s\n"
          ]
        }
      ]
    },
    {
      "cell_type": "markdown",
      "source": [
        "# Step 5: Evaluate"
      ],
      "metadata": {
        "id": "KdaYM3nDsa-l"
      }
    },
    {
      "cell_type": "code",
      "source": [
        "print(\"\\nEvaluating model...\")\n",
        "test_preds = batch_predict(x_test_small, params, batch_size=10)\n",
        "binary_preds = (test_preds > 0.5).astype(int)\n",
        "acc = accuracy_score(y_test_small, binary_preds)\n",
        "print(f\"Test Accuracy: {acc * 100:.2f}%\")\n"
      ],
      "metadata": {
        "colab": {
          "base_uri": "https://localhost:8080/"
        },
        "id": "hbFJ9BZusYiw",
        "outputId": "67945be8-b6d4-49b7-c293-e5f70457398b"
      },
      "execution_count": null,
      "outputs": [
        {
          "output_type": "stream",
          "name": "stdout",
          "text": [
            "\n",
            "Evaluating model...\n",
            "Test Accuracy: 60.00%\n"
          ]
        }
      ]
    },
    {
      "cell_type": "code",
      "source": [
        "plt.figure(figsize=(10, 4))\n",
        "\n",
        "plt.subplot(1, 2, 1)\n",
        "plt.hist(test_preds, bins=20, alpha=0.7, label='Predictions')\n",
        "plt.axvline(0.5, color='red', linestyle='--', label='Threshold')\n",
        "plt.xlabel('Prediction Probability')\n",
        "plt.ylabel('Count')\n",
        "plt.title('Prediction Distribution')\n",
        "plt.legend()\n",
        "\n",
        "plt.subplot(1, 2, 2)\n",
        "plt.scatter(range(len(y_test_small)), test_preds, c=y_test_small, cmap='viridis', alpha=0.7)\n",
        "plt.axhline(0.5, color='red', linestyle='--')\n",
        "plt.xlabel('Sample Index')\n",
        "plt.ylabel('Prediction Probability')\n",
        "plt.title('Predictions vs True Labels')\n",
        "plt.colorbar(label='True Label')\n",
        "\n",
        "plt.tight_layout()\n",
        "plt.show()\n",
        "\n",
        "print(f\"\\nOptimization complete! Final parameters: {params}\")"
      ],
      "metadata": {
        "id": "L4sYFIr6saS5",
        "colab": {
          "base_uri": "https://localhost:8080/",
          "height": 359
        },
        "outputId": "e79e4506-46de-4698-f6c2-60506e6f4a63"
      },
      "execution_count": null,
      "outputs": [
        {
          "output_type": "display_data",
          "data": {
            "text/plain": [
              "<Figure size 1000x400 with 3 Axes>"
            ],
            "image/png": "[encoded data removed]"
          },
          "metadata": {}
        },
        {
          "output_type": "stream",
          "name": "stdout",
          "text": [
            "\n",
            "Optimization complete! Final parameters: [0.11665664 2.14340516 1.12396727 3.79378114 6.48265817 6.08922924\n",
            " 4.05581539 4.91831713]\n"
          ]
        }
      ]
    }
  ]
}
