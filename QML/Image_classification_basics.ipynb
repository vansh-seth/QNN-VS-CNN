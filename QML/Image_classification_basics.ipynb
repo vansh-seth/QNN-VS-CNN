{
  "nbformat": 4,
  "nbformat_minor": 0,
  "metadata": {
    "colab": {
      "provenance": []
    },
    "kernelspec": {
      "name": "python3",
      "display_name": "Python 3"
    },
    "language_info": {
      "name": "python"
    }
  },
  "cells": [
    {
      "cell_type": "code",
      "execution_count": null,
      "metadata": {
        "id": "FuiFx7nGml9r"
      },
      "outputs": [],
      "source": [
        "import numpy as np\n",
        "import cv2"
      ]
    },
    {
      "cell_type": "markdown",
      "source": [
        " Step 1: Load and Preprocess Image"
      ],
      "metadata": {
        "id": "WGtViIxHmq8v"
      }
    },
    {
      "cell_type": "code",
      "source": [
        "img = cv2.imread('/content/sample_data/62a8216a3923c0f0beabb1185c7e32b8.jpg')\n",
        "gray = cv2.cvtColor(img, cv2.COLOR_BGR2GRAY)\n",
        "resized = cv2.resize(gray, (3, 5))\n",
        "normalized_input = resized / 255.0"
      ],
      "metadata": {
        "id": "Y-mYWSWhmn3Q"
      },
      "execution_count": null,
      "outputs": []
    },
    {
      "cell_type": "code",
      "source": [
        "X = normalized_input.reshape(1, 15)"
      ],
      "metadata": {
        "id": "ggKv7QVPm4U6"
      },
      "execution_count": null,
      "outputs": []
    },
    {
      "cell_type": "markdown",
      "source": [
        "Step 2: Set Target Output (Binary classification example)"
      ],
      "metadata": {
        "id": "W2LildnmnLES"
      }
    },
    {
      "cell_type": "code",
      "source": [
        "Y = np.array([[1]])"
      ],
      "metadata": {
        "id": "eu7vR1OCnICg"
      },
      "execution_count": null,
      "outputs": []
    },
    {
      "cell_type": "markdown",
      "source": [
        "Step 3: Define Sigmoid Functions"
      ],
      "metadata": {
        "id": "AMUAqbK-nPnk"
      }
    },
    {
      "cell_type": "code",
      "source": [
        "def sigmoid(x):\n",
        "    return 1 / (1 + np.exp(-x))\n",
        "\n",
        "def sigmoid_deriv(x):\n",
        "    return x * (1 - x)"
      ],
      "metadata": {
        "id": "M7eTqHoOnKsY"
      },
      "execution_count": null,
      "outputs": []
    },
    {
      "cell_type": "markdown",
      "source": [
        "Step 4: Initialize Weights"
      ],
      "metadata": {
        "id": "fuxpGj87nSlG"
      }
    },
    {
      "cell_type": "code",
      "source": [
        "np.random.seed(1)\n",
        "input_dim = X.shape[1]\n",
        "hidden_dim = 6\n",
        "output_dim = 1\n",
        "\n",
        "weights_input_hidden = 2 * np.random.random((input_dim, hidden_dim)) - 1\n",
        "weights_hidden_output = 2 * np.random.random((hidden_dim, output_dim)) - 1"
      ],
      "metadata": {
        "id": "9wJdH_jHnR1O"
      },
      "execution_count": null,
      "outputs": []
    },
    {
      "cell_type": "markdown",
      "source": [
        "Step 5: Train Network with Backpropagation"
      ],
      "metadata": {
        "id": "dsbiLaCnnZe1"
      }
    },
    {
      "cell_type": "code",
      "source": [
        "for epoch in range(10000):\n",
        "    # Forward Pass\n",
        "    hidden_input = np.dot(X, weights_input_hidden)\n",
        "    hidden_output = sigmoid(hidden_input)\n",
        "\n",
        "    final_input = np.dot(hidden_output, weights_hidden_output)\n",
        "    final_output = sigmoid(final_input)\n",
        "\n",
        "    # Error\n",
        "    output_error = Y - final_output\n",
        "    output_delta = output_error * sigmoid_deriv(final_output)\n",
        "\n",
        "    hidden_error = output_delta.dot(weights_hidden_output.T)\n",
        "    hidden_delta = hidden_error * sigmoid_deriv(hidden_output)\n",
        "\n",
        "    # Weight Updates\n",
        "    weights_hidden_output += hidden_output.T.dot(output_delta)\n",
        "    weights_input_hidden += X.T.dot(hidden_delta)\n"
      ],
      "metadata": {
        "id": "x4YcdZUVnXSn"
      },
      "execution_count": null,
      "outputs": []
    },
    {
      "cell_type": "markdown",
      "source": [
        "Step 6: Output Prediction\n"
      ],
      "metadata": {
        "id": "4UDoGB_8nenc"
      }
    },
    {
      "cell_type": "code",
      "source": [
        "print(\"5x3 Grayscale Matrix (Normalized):\\n\", normalized_input)\n",
        "print(\"\\nPredicted Output:\", final_output)"
      ],
      "metadata": {
        "colab": {
          "base_uri": "https://localhost:8080/"
        },
        "id": "HN0Zh0AcneNf",
        "outputId": "ef861d87-20f5-453c-96d6-d11aa03cdd6a"
      },
      "execution_count": null,
      "outputs": [
        {
          "output_type": "stream",
          "name": "stdout",
          "text": [
            "5x3 Grayscale Matrix (Normalized):\n",
            " [[0.09803922 0.14509804 0.09411765]\n",
            " [0.19215686 0.98039216 0.03137255]\n",
            " [0.21960784 0.94117647 0.27058824]\n",
            " [0.04705882 0.75686275 0.34117647]\n",
            " [0.09411765 0.24705882 0.1372549 ]]\n",
            "\n",
            "Predicted Output: [[0.99570989]]\n"
          ]
        }
      ]
    },
    {
      "cell_type": "code",
      "source": [],
      "metadata": {
        "id": "3QilY9_cnh_Q"
      },
      "execution_count": null,
      "outputs": []
    }
  ]
}
